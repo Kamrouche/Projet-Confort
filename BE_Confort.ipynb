{
 "cells": [
  {
   "cell_type": "markdown",
   "id": "7d88a53f-3de0-4be2-a482-20cd28e6e416",
   "metadata": {
    "tags": []
   },
   "source": [
    "# Modèles Statiques pour la gestion énergétique des bâtiments\n",
    "Le développement de modèles statiques pour la gestion énergétique des bâtiments représente une opportunité prometteuse pour améliorer la durabilité environnementale et économique des bâtiments, et contribuer à la transition énergétique vers un avenir plus propre et plus durable. \n",
    "\n",
    "## Probleme\n",
    "### Description du bâtiment\n",
    "La maison considérée est un T4 de type rural d’environ 108m2 de surface habitable est composée comme suit : un hall d’entrée faisant office de pièce commune, trois chambres séparées, la maison est réalisée sur un seul niveau avec un volume de 324 m3 (Figure 1):  \n",
    "- $L = 6, \\, l = 3\\,  \\mathrm{m}$, longueurs,\n",
    "- $H = 3 \\, \\mathrm{m}$, hauteur.\n",
    "- $w = 0.20 \\, \\mathrm{m}$, largeur des murs.\n",
    "\n",
    "![fig](./figures/Vue_plan_maison.png)\n",
    "> Figure 1. Vue en plan de l’habitation\n",
    "\n",
    "### Composantes de l’enveloppe : \n",
    "La maison qui est présentée comme une construction qui respecte des techniques bioclimatiques, sa composition est décrite comme suit : \n",
    "\n",
    "#### Mur Extérieur :\n",
    "- Béton cellulaire 400 : épaisseur w = 10cm\n",
    "- Isolation laine de roche : épaisseur w = 10cm\n",
    "#### Mur intérieur :\n",
    "- Béton cellulaire 400 : épaisseur w = 20cm\n",
    "#### Fenêtre simple vitrage:\n",
    "- Vitre 6mm\n",
    "#### Fenêtre double vitrage HR:\n",
    "- Vitre 6mm\n",
    "- Air 6mm\n",
    "- Vitre 6mm\n",
    "\n",
    "### Donnée météorologique : \n",
    "Données recueillies pour le mois de Janvier 2015 depuis le site [Climat.one.bulding](https://climate.onebuilding.org/WMO_Region_6_Europe/FRA_France/index.html):\n",
    "- Localisation : Grenoble Alpes Isère, France.\n",
    "- Longitude et latitude : {N 45° 21.83'} {E 5° 18.80'}\n",
    "- Elévation : 386 m au-dessus du niveau de la mer.\n",
    "- Précipitations liquides moyennes standard mensuelles 71mm\n",
    "- La température extérieure moyenne mensuelle est  $T_o = 3 \\, \\mathrm{°C}$. \n",
    "- La Vitesse moyenne mensuelle standard du vent  est  $V = 3.4 \\, \\mathrm{m/s}$.\n",
    "- Le rayonnement solaire absorbé par chaque mur est $E = 800 \\, \\mathrm{W/m^2}$.\n",
    "- Les coefficients de chaleur convective entre les murs et l'air intérieur et extérieur sont  $h_i = 8 \\, \\mathrm{W/(m^2 \\, K)}$ et $h_o = 25 \\, \\mathrm{W/(m^2 \\, K)}$ respectivement.\n",
    "\n",
    "### Caractéristiques thermodynamiques des matériaux : \n",
    "\n",
    "- Béton cellulaire : $\\lambda = 0.16 \\, \\mathrm{W/(m \\, K)}$\n",
    "\n",
    "- Isolation : $\\lambda = 0.044 \\, \\mathrm{W/(m \\, K)}$\n",
    "\n",
    "- Fenêtre simple vitrage: $U_s = 6 \\, \\mathrm{W/(m^2 \\, K)}$\n",
    "\n",
    "- Fenêtre double vitrage: $U_d = 1.5 \\, \\mathrm{W/(m^2 \\, K)}$\n",
    "\n",
    "- Porte intérieur : $U_i = 2.6 \\, \\mathrm{W/(m \\, K)}$\n",
    "\n",
    "- Porte extérieur : $U_e = 2.5 \\, \\mathrm{W/(m \\, K)}$"
   ]
  },
  {
   "cell_type": "code",
   "execution_count": 3,
   "id": "1bbe08e1-43d2-415c-ad6c-362ea7fc470d",
   "metadata": {},
   "outputs": [],
   "source": [
    "import numpy as np\n",
    "\n",
    "np.set_printoptions(precision=1)\n",
    "\n",
    "# Donnée\n",
    "# ====\n",
    "# dimensions\n",
    "L, l, H, Lf, Hpi, lpi, Hpe, lpe, w_ext, w_int, w_iso  = 6, 3, 3, 1.25, 2, 0.90, 2, 1.04, 0.10, 0.20, 0.10  # m\n",
    "\n",
    "# propriétés thermophysiques\n",
    "λ_beton = 0.16      # W/(m K) conductivité thermique du béton\n",
    "λ_iso = 0.044      # W/(m K) conductivité thermique de l'isolant\n",
    "U_s = 6             # W/(m2 K) conductivité thermique de la fenetre simple vitrage\n",
    "U_d = 1.5           # W/(m2 K) conductivité thermique du la fenetre double vitrage\n",
    "U_i = 2.6           # W/(m2 K) conductivité thermique de la porte interieur\n",
    "U_e = 2.5           # W/(m2 K) conductivité thermique du la porte exterieur\n",
    "ρ, c = 1.2, 1000    # kg/m3, J/(kg K) densité, chaleur spécifique air\n",
    "hi, ho = 8, 25      # W/(m2 K) coefficients de convection entrée, sortie\n",
    "\n",
    "# rayonnement solaire à ondes courtes absorbé par chaque mur\n",
    "E = 800             # W/m2\n",
    "\n",
    "# température extérieure\n",
    "To = 3              # °C\n",
    "\n",
    "# taux de ventilation (renouvellements d'air par heure)\n",
    "ACH = 1             # volume/h\n",
    "\n",
    "# position fenetre, fenetre ouverte = 2 , fenetre fermé = 0 , fenetre entreouverte = 1\n",
    "fenetre = 2"
   ]
  },
  {
   "cell_type": "markdown",
   "id": "16b26723-f1a8-434a-9cb5-38153bb3f595",
   "metadata": {
    "tags": []
   },
   "source": [
    "## Modèle thermique \n",
    "\n",
    "Le débit volumétrique d'air circulant dans une seule chambre (que ce soit la chambre 1, 2 ou 3) résulte du taux de ventilation : \n",
    "$$\\dot V = L·l·H·\\frac{ACH}{3600 \\, \\mathrm{s}}$$\n",
    "\n",
    "Le débit massique d'air entrant et sortant des pièces 1,2 et 3 est :\n",
    "$$\\dot m = \\rho \\dot V$$"
   ]
  },
  {
   "cell_type": "code",
   "execution_count": 4,
   "id": "f63daae1-798a-45c3-a02e-27d4ffb829ed",
   "metadata": {},
   "outputs": [],
   "source": [
    "V_dot = 3*(L * l * H * ACH) / 3600  # débit d'air volumétrique\n",
    "m_dot = ρ * V_dot                   # débit d'air massique"
   ]
  },
  {
   "cell_type": "markdown",
   "id": "a4fab65b-68cb-425c-a22d-3c8ffd16ff84",
   "metadata": {
    "tags": []
   },
   "source": [
    "### Conductivité thermique \n",
    "\n",
    "Dans le modèle, on considérera les conductances :\n",
    "- $h \\, S$ - convection, W/K.\n",
    "- $\\lambda / w \\, S$ - conduction, W/K.\n",
    "- $\\dot m c$ - advection, W/K.\n",
    "- $K_p$ - gain du contrôleur proportionnel, W/K.\n",
    "- $U_s \\, S_f$ - convection fenêtre simple vitrage, W/K.\n",
    "- $U_d \\, S_f$ - convection fenêtre double vitrage, W/K.\n",
    "- $U \\, S_p$ - convection portes, W/K.\n",
    "\n",
    "\n",
    "Nous considérerons les conductances des murs extérieurs et intérieurs (Figure 2). Les murs extérieurs sont modélisés avec une conductance pour la convection extérieure (cyan sur la figure 2) et une conductance équivalente pour la conductance dans le mur et la convection intérieure (bleu sur la figure 2). Les murs intérieurs sont modélisés par une conductance équivalente pour la convection intérieure, la conduction et la convection intérieure de l'autre côté.\n",
    "\n",
    "![fig](./figures/Vue_plan_maison_conductance.png)\n",
    "> Figure 2. Parois formant des conductances thermiques dans le modèle."
   ]
  },
  {
   "cell_type": "markdown",
   "id": "961c9df9-f330-45b3-bd69-efcd09c05856",
   "metadata": {
    "tags": []
   },
   "source": [
    "### Réseau thermique\n",
    "\n",
    "Le réseau thermique modélisant le bâtiment est un graphe orienté pondéré (Figure 3). Il est composé d'arêtes (ou branches) et de sommets (ou nœuds).\n",
    "\n",
    "À un nœud de température $\\theta_j$, sont connectées des branches $q_k, k = 0 ... n$ et des sources de flux de chaleur, $f_j$.\n",
    "\n",
    "Ce graphe orienté pondéré est caractérisé par :\n",
    "- $A$ - [Matrice d'incidence](https://fr.wikipedia.org/wiki/Matrice_d%27incidence);\n",
    "- $G$ - Matrice diagonale de [conductance](https://fr.wikipedia.org/wiki/R%C3%A9sistance_(%C3%A9lectricit%C3%A9));\n",
    "- $b$ - vecteur de [sources de température](https://fr.wikipedia.org/wiki/Source_de_tension);\n",
    "- $f$ - vecteur de sources de flux.\n",
    "\n",
    "\n",
    "La solution de ce problème a grandement été inspirée du travail de ([Ghiaus (2013)](https://hal.archives-ouvertes.fr/hal-03605823/document)):\n",
    "\n",
    "$$ \\theta = (A^TGA)^{-1}(A^TGb + f)$$\n",
    "et\n",
    "$$ q = G(-A\\theta + b)$$\n",
    "\n",
    "![fig](./figures/reseau_thermique_maisonv2.png)\n",
    "> Figure 3. modèle de réseau thermique pour le bâtiment représenté aux figures 1 et 2.\n",
    "\n",
    "Pour notre modèle, le graphe comporte 26 branches et 8 nœuds (Figure 3)."
   ]
  },
  {
   "cell_type": "code",
   "execution_count": 5,
   "id": "3dff6854-44f4-4b34-a1c7-104e94439d23",
   "metadata": {},
   "outputs": [],
   "source": [
    "nq, nθ = 26, 8  # nombre de branches de flux et de nœuds de température"
   ]
  },
  {
   "cell_type": "markdown",
   "id": "84ce0ac2-2c7f-4e97-abb2-4518ac8eef47",
   "metadata": {},
   "source": [
    "### Matrice d'incidence\n",
    "La [Matrice d'incidence](https://fr.wikipedia.org/wiki/Matrice_d%27incidence) d'un graphe orienté montre la relation entre les arêtes (ou branches) $k$ et les sommets (ou nœuds) $j$ du graphe (Figure 3):\n",
    "\n",
    "$$A_{k,j} = \\begin{cases}\\phantom{-}\n",
    "0 & \\text{si le flux de chaleur } q_k \\text{ n'est pas connecte au noeud }  \\theta_j \\\\ \n",
    "+1 & \\text{si le flux de chaleur } q_k \\text{ entre dans le noeud }  \\theta_j\\\\ \n",
    "-1 & \\text{si le flux de chaleur } q_k \\text{ sort du noeud }  \\theta_l \n",
    "\\end{cases}$$\n",
    "\n",
    "La matrice d'incidence est une matrice creuse qui a :\n",
    "- le nombre de lignes égal à $n_q$, le nombre de flux de chaleur $q_k$;\n",
    "- le nombre de colonne égal à $n_{\\theta}$, le nombre de nœuds de température $\\theta_j$."
   ]
  },
  {
   "cell_type": "code",
   "execution_count": 6,
   "id": "81de6c96-d97b-4d65-91d9-e608873471ed",
   "metadata": {},
   "outputs": [],
   "source": [
    "# Matrice d'incidence\n",
    "# ================\n",
    "A = np.zeros([nq, nθ])\n",
    "\n",
    "# q0 ... q3 (branches cyan)\n",
    "A[0, 0] = 1\n",
    "A[1, 1] = 1\n",
    "A[2, 5] = 1\n",
    "A[3, 7] = 1\n",
    "\n",
    "# q4 ... q7 (branches bleu)\n",
    "A[4, 0], A[4, 3] = -1, 1\n",
    "A[5, 1], A[5, 2] = -1, 1\n",
    "A[6, 4], A[6, 5] = -1, 1\n",
    "A[7, 7], A[7, 6] = -1, 1\n",
    "\n",
    "# q8 ... q12 (branches jaune)\n",
    "A[8, 2], A[8, 3] = -1, 1\n",
    "A[9, 3], A[9, 4] = -1, 1\n",
    "A[10, 6], A[10, 2] = -1, 1\n",
    "A[11, 6], A[11, 3] = -1, 1\n",
    "A[12, 6], A[12, 4] = -1, 1\n",
    "\n",
    "# q13 ... q15 et q20 ... q25 (branches verte)\n",
    "A[13, 3] = 1\n",
    "A[14, 3], A[14, 6] = -1, 1\n",
    "A[15, 6] = 1\n",
    "A[20, 2] = 1\n",
    "A[21, 2], A[21, 6] = -1, 1\n",
    "A[22, 6] = 1\n",
    "A[23, 4] = 1\n",
    "A[24, 4], A[24, 6] = -1, 1\n",
    "A[25, 6] = 1\n",
    "\n",
    "# q16 ... q19 (branches rouge)\n",
    "A[16, 2] = 1\n",
    "A[17, 3] = 1\n",
    "A[18, 4] = 1\n",
    "A[19, 6] = 1"
   ]
  },
  {
   "cell_type": "markdown",
   "id": "43af7d30-a1a8-490f-82ca-754b3a9ce21a",
   "metadata": {
    "tags": []
   },
   "source": [
    "### Conductances\n",
    "Le nombre de conductances correspond au nombre de flux qui est le nombre de lignes de la matrice d'incidence $A$"
   ]
  },
  {
   "cell_type": "code",
   "execution_count": 7,
   "id": "e0fc9691-7831-4086-9919-0a40e2d12cba",
   "metadata": {},
   "outputs": [],
   "source": [
    "# Matrice de conductance\n",
    "# ==================\n",
    "G = np.zeros(A.shape[0])"
   ]
  },
  {
   "cell_type": "markdown",
   "id": "c57c1b8c-98cb-4ba2-b3d8-e60f265a1f0e",
   "metadata": {},
   "source": [
    "#### Murs extérieurs : convection extérieure\n",
    "Les conductances de [convection](https://fr.wikipedia.org/wiki/Convection) entre les murs et l'air extérieur (en cyan sur les figures 2 et 3) sont de la forme\n",
    "$$G_i = h_o \\, S_{o,k},\\text{ avec } k = 0 ... 3$$\n",
    "où $S_{o,k}$ est la surface du mur en contact avec l'air extérieur :\n",
    "- $S_{o,0} = L \\, H$\n",
    "- $S_{o,1} = S_{o,2} = (L + l) H$\n",
    "- $S_{o,3} = (2l + 3L + 2w)H$\n",
    "- $S_{f} = Lf^2$  - Surface de la fenêtre\n",
    "- $S_{pint} = Hpi * Lpi$ - Surface de la porte interieur\n",
    "- $S_{pext} = Hpe * Lpe$ - Surface de la porte exterieur\n",
    "- $S_{p4} = S_{o,0} - S_{f}$\n",
    "- $S_{p5,6} = S_{o,1} - S_{f}$\n",
    "- $S_{p7} = S_{o,3} - S_{pext}$"
   ]
  },
  {
   "cell_type": "code",
   "execution_count": 8,
   "id": "b31f00f6-561e-495b-b24a-a2e092d941ef",
   "metadata": {},
   "outputs": [],
   "source": [
    "# G0 ... G3 (branches cyan) : convection extérieure\n",
    "L4 = 2 * l + 3 * L + 2 * (w_iso + w_ext)      # longueur mur extérieur de la chambre 4\n",
    "G[0] = ho * (L * H )\n",
    "G[1] = ho * (L + l ) * H\n",
    "G[2] = ho * (L + l ) * H\n",
    "G[3] = ho * (L4 * H )"
   ]
  },
  {
   "cell_type": "markdown",
   "id": "ed725854-d368-40f3-b25d-219f43a793f1",
   "metadata": {},
   "source": [
    "#### Murs extérieurs : conduction et convection intérieure\n",
    "La [conductance équivalente](https://fr.wikipedia.org/wiki/Parall%C3%A8le_(%C3%A9lectricit%C3%A9)) pour [conduction](https://fr.wikipedia.org/wiki/Conduction_thermique) dans le mur et la [convection](https://fr.wikipedia.org/wiki/Convection) entre le mur et l'air intérieur (en bleu sur la figure 3) est :\n",
    "$$G_k = \\frac{1}{\\frac{w}{\\lambda} + \\frac{1}{h_i}}S_{pk} + \\frac{1}{\\frac{1}{U} + \\frac{1}{h_i}}S_{f},\\text{ avec } k = 4 ... 7$$"
   ]
  },
  {
   "cell_type": "code",
   "execution_count": 9,
   "id": "6a0614b5-26b9-4121-89b6-e31714c24e54",
   "metadata": {},
   "outputs": [],
   "source": [
    "# G4 ... G7 (branches bleues) : conduction, convection intérieure\n",
    "S0_0 = L * H\n",
    "S0_1 = S0_2 = (L + l) * H\n",
    "S0_3 = (2*l + 3*L + 2*w_int) * H\n",
    "S_f = Lf**2\n",
    "S_pint = Hpi * lpi\n",
    "Sp_ext = Hpe * lpe\n",
    "Sp4 = S0_0 - S_f\n",
    "Sp5 = Sp6 = S0_1 - S_f\n",
    "Sp7 = S0_3 - Sp_ext\n",
    "\n",
    "G[4] = (1 / (w_ext / λ_beton + w_iso / λ_iso + 1 / hi) * Sp4 ) + (1 / (1 / U_d + 1 / hi) * S_f )  # ici on a utilisé une fenetre double vitrage Ud, pour voir l'influance de la fenetre, on peut simplement mettre une simple vitre en changeant Ud par Us\n",
    "G[5] = (1 / (w_ext / λ_beton + w_iso / λ_iso + 1 / hi) * Sp5 ) + (1 / (1 / U_d + 1 / hi) * S_f )\n",
    "G[6] = (1 / (w_ext / λ_beton + w_iso / λ_iso + 1 / hi) * Sp6 ) + (1 / (1 / U_d + 1 / hi) * S_f )\n",
    "G[7] = (1 / (w_ext / λ_beton + w_iso / λ_iso + 1 / hi) * Sp7 ) + (1 / (1 / U_e + 1 / hi) * Sp_ext )"
   ]
  },
  {
   "cell_type": "markdown",
   "id": "b0f6bc05-0487-4035-854f-63527e34767f",
   "metadata": {},
   "source": [
    "#### Murs intérieurs : convection intérieure, conduction convection intérieure\n",
    "La [conductance équivalente](https://fr.wikipedia.org/wiki/Parall%C3%A8le_(%C3%A9lectricit%C3%A9)) pour les murs intérieurs est formé par le (jaune sur les figures 2 et 3) :\n",
    "- convention entre mur et air intérieur.\n",
    "- conduction dans le mur.\n",
    "- convection entre le mur et l'air intérieur.\n",
    "\n",
    "Il est de la forme :\n",
    "$$G_k = \\frac{1}{\\frac{2}{h_i} + \\frac{w}{\\lambda}}S_{i,j}, \\text{ avec } k = 8 ... 12$$\n",
    "\n",
    "où $S_{i,j}$ est la surface du mur en contact avec l'air intérieur :\n",
    "- $S_{p8} = S_{p9} = l \\, H$.\n",
    "- $S_{p10} = S_{p11} = S_{p12} = S_{o,0} -  S_{pint}$."
   ]
  },
  {
   "cell_type": "code",
   "execution_count": 10,
   "id": "6486236e-47e3-44b3-b44c-97210e178d96",
   "metadata": {},
   "outputs": [],
   "source": [
    "# G8 ... G12 (branches jaunes) : murs intérieurs\n",
    "# convection intérieure, conduction, convection intérieure\n",
    "Sp8 = Sp9 = l * H\n",
    "Sp10 = Sp11 = Sp12 = S0_0 - S_pint\n",
    "\n",
    "G[8] = 1 / (2 / hi + w_int / λ_beton ) * Sp8\n",
    "G[9] = 1 / (2 / hi + w_int / λ_beton ) * Sp9\n",
    "G[10] = 1 / (2 / hi + w_int / λ_beton ) * Sp10 + 1 / (2 / hi + 1 / U_i ) * S_pint\n",
    "G[11] = 1 / (2 / hi + w_int / λ_beton ) * Sp11 + 1 / (2 / hi + 1 / U_i ) * S_pint\n",
    "G[12] = 1 / (2 / hi + w_int / λ_beton ) * Sp12 + 1 / (2 / hi + 1 / U_i ) * S_pint"
   ]
  },
  {
   "cell_type": "markdown",
   "id": "e1ada68a-198b-4219-b38e-660d9b8a1cce",
   "metadata": {
    "tags": []
   },
   "source": [
    "#### Ventilation : transfert de chaleur par advection\n",
    "\n",
    "La ventilation des pièces 1, 2, 3 et 4 transfère la chaleur à ces espaces par [advection](https://fr.wikipedia.org/wiki/Advection) (Figure 4). Le [flux de chaleur transféré par le fluide](https://fr.wikipedia.org/wiki/D%C3%A9bit_(physique)) est:\n",
    "$$\\dot H = \\dot m c \\theta$$\n",
    "où :\n",
    "- $\\dot H$ est l'[enthalpie](https://fr.wikipedia.org/wiki/Enthalpie) taux transporté par l'air, W;\n",
    "- $\\dot m$ - débit massique de l'air, kg / s;\n",
    "- $c$ - la [capacité thermique spécifique](https://fr.wikipedia.org/wiki/Capacit%C3%A9_thermique_massique) de l'air, J / (kg⋅K);\n",
    "- $\\theta$ - temperature de l'air, °C.\n",
    "\n",
    "##### Débit d'air : extérieur → Chambre 1 → Chambre 4 → extérieur\n",
    "\n",
    "Si le flux d'air va de l'extérieur vers la pièce 1, alors le flux de chaleur transféré de l'air extérieur à l'air intérieur de la pièce 1 est :\n",
    "$$q_{20} = \\dot m c T_o - \\dot m c \\theta_2$$\n",
    "ou\n",
    "$$q_{20} = G_{20}(T_o - \\theta_2)$$\n",
    "où $G_{20} = \\dot m c$.\n",
    "\n",
    "Le flux thermique transféré par advection de l'air de la chambre 1 vers la chambre 4 est :\n",
    "$$q_{21a} = \\dot m c \\theta_2 - \\dot m c \\theta_6$$\n",
    "ou\n",
    "$$q_{21a} = G_{21}(\\theta_2 - \\theta_6)$$\n",
    "où $G_{21} = \\dot m c$.\n",
    "\n",
    "##### Débit d'air : extérieur → Chambre 4 → Chambre 1 → extérieur\n",
    "\n",
    "Si le flux d'air va de la Chambre 4 vers la Chambre 1 (Figure 4 b), alors le flux de chaleur transféré à l'air intérieur de la Chambre 1 est :\n",
    "$$q_{21b} = \\dot m c \\theta_6 - \\dot m c \\theta_2$$\n",
    "ou\n",
    "$$q_{21b} = G_{21}(\\theta_6 - \\theta_2)$$\n",
    "où $G_{21} = \\dot m c$.\n",
    "\n",
    "Le flux thermique transféré par convection de l'air extérieur vers la chambre 4 est de :\n",
    "$$q_{22} = \\dot m c T_o - \\dot m c \\theta_6$$\n",
    "ou\n",
    "$$q_{22} = G_{22}(T_o - \\theta_6)$$\n",
    "où $G_{22} = \\dot m c.$\n",
    "\n",
    "##### Flux de chaleur de la Chambre 1 à la Chambre 4\n",
    "\n",
    "Si l'air passe de la chambre 1 à la chambre 4, alors le flux de chaleur est $q_{21a} \\equiv q_{21}.$ Si l'air passe de la Chambre 4 à la Chambre 1, alors le flux de chaleur est $q_{21b} \\equiv -q_{21}.$ Par conséquent, un seul flux de chaleur, $q_{21}$, est nécessaire dans le réseau thermique (Figure 3).\n",
    "\n",
    "##### Modélisation du changement de direction du flux d'air\n",
    "\n",
    "Si l'air circule dans le sens : extérieur → Chambre 1 → Chambre 4 → extérieur, alors la conductance $G_{22}$ est nul et les conductances $G_{20}$ et $G_{21}$ sont égaux à $\\dot m c$ (Figure 3 et Figure 4a).\n",
    "\n",
    "Si l'air circule dans le sens : extérieur → Chambre 4 → Chambre 1 → extérieur, alors la conductance $G_{20}$ est nul et les conductances $G_{21}$ et $G_{22}$ sont égaux à $\\dot m c$ (Figure 3 et Figure 4b).\n",
    "\n",
    "S'il n'y a pas de ventilation, les conductances $G_{20}$, $G_{21},$ et $G_{22}$ sont nuls.\n",
    "\n",
    "##### Débit d'air : extérieur → Chambre 2 → Chambre 4 → extérieur\n",
    "\n",
    "$$q_{13} = G_{13}(T_o - \\theta_3)$$\n",
    "où $G_{13} = \\dot m c$.\n",
    "\n",
    "Le flux thermique par advection est :\n",
    "\n",
    "$$q_{14a} = G_{14}(\\theta_3 - \\theta_6)$$\n",
    "où $G_{14} = \\dot m c$.\n",
    "\n",
    "##### Débit d'air : extérieur → Chambre 4 → Chambre 2 → extérieur\n",
    "\n",
    "$$q_{14b} = G_{14}(\\theta_6 - \\theta_3)$$\n",
    "où $G_{14} = \\dot m c$.\n",
    "\n",
    "Le flux thermique par convection est :\n",
    "\n",
    "$$q_{15} = G_{15}(T_o - \\theta_6)$$\n",
    "où $G_{15} = \\dot m c.$\n",
    "\n",
    "##### Flux de chaleur de la Chambre 2 à la Chambre 4\n",
    "\n",
    "Le comportement du flux de chaleur à travers les chambres 2 et 4 suit le même principe qu'au travers des chambres 1 et 4, on fait simplement l'analogie des résistances  de convection équivalentes.\n",
    "\n",
    "##### Modélisation du changement de direction du flux d'air\n",
    "\n",
    "Le comportement du flux d'air à travers les chambres 2 et 4 suit le même principe qu'au travers des chambres 1 et 4, on fait simplement l'analogie des résistances d'advection équivalentes.\n",
    "\n",
    "##### Débit d'air : extérieur → Chambre 3 → Chambre 4 → extérieur\n",
    "\n",
    "$$q_{23} = G_{23}(T_o - \\theta_4)$$\n",
    "où $G_{23} = \\dot m c$.\n",
    "\n",
    "Le flux thermique par advection est :\n",
    "\n",
    "$$q_{24a} = G_{24}(\\theta_4 - \\theta_6)$$\n",
    "où $G_{24} = \\dot m c$.\n",
    "\n",
    "##### Débit d'air : extérieur → Chambre 4 → Chambre 3 → extérieur\n",
    "\n",
    "$$q_{24b} = G_{24}(\\theta_6 - \\theta_4)$$\n",
    "où $G_{24} = \\dot m c$.\n",
    "\n",
    "Le flux thermique par convection est :\n",
    "\n",
    "$$q_{25} = G_{25}(T_o - \\theta_6)$$\n",
    "où $G_{25} = \\dot m c.$\n",
    "\n",
    "##### Flux de chaleur de la Chambre 3 à la Chambre 4\n",
    "\n",
    "Le comportement du flux de chaleur à travers les chambres 3 et 4 suit le même principe qu'au travers des chambres 1 et 4, on fait simplement l'analogie des résistances  de convection équivalentes.\n",
    "\n",
    "##### Modélisation du changement de direction du flux d'air\n",
    "\n",
    "Le comportement du flux d'air à travers les chambres 3 et 4 suit le même principe qu'au travers des chambres 1 et 4, on fait simplement l'analogie des résistances d'advection équivalentes.\n",
    "\n",
    "\n",
    "![fig](./figures/08_vent_advection.svg)\n",
    "> Figure 4. Advection de chaleur par ventilation. \n",
    "> - a) Débit d'air : extérieur → chambre 1, 2 ou 3 → chambre 4 → extérieur. \n",
    "> - b) Débit d'air : extérieur → chambre 4 → chambre 1, 2 ou 3 → extérieur."
   ]
  },
  {
   "cell_type": "code",
   "execution_count": 11,
   "id": "e7749fcc-2265-44d5-904f-8b2cb54683be",
   "metadata": {},
   "outputs": [],
   "source": [
    "# G13 ... G15 (branches vertes) : advection par ventilation\n",
    "\n",
    "# si les fenêtres sont complètement fermé G13 = G20 = G23 = 0\n",
    "if fenetre == 0 : \n",
    "    G[13:16] = np.zeros(3)\n",
    "    G[20:26] = np.zeros(6)\n",
    "\n",
    "# si les fenêtres sont à moitié ouverte\n",
    "elif fenetre == 1 :\n",
    "    G[15] = G[22] = G[25] = 0\n",
    "    G[13:15] = G[20:22] = G[24:26] = 0.5 * m_dot * c\n",
    "\n",
    "# si les fenêtres sont compltèment ouverte\n",
    "elif fenetre == 2 : \n",
    "    G[15] = G[22] = G[25] = 0\n",
    "    G[13:15] = G[20:22] = G[24:26] = m_dot * c"
   ]
  },
  {
   "cell_type": "markdown",
   "id": "ea6641d8-ec00-4222-8184-1cb02ff50323",
   "metadata": {},
   "source": [
    "#### Régulateur (contrôleur) proportionnel\n",
    "\n",
    "Le chauffage, la ventilation et la climatisation ([CVC](https://fr.wikipedia.org/wiki/Chauffage,_ventilation_et_climatisation)) le système maintient la température de l'air intérieur à [point de consigne](https://fr.wikipedia.org/wiki/Valeur_de_consigne) valeur. Par conséquent, le système CVC peut être modélisé comme un contrôleur proportionnel. (Figure 5a) pour lequel le flux de chaleur du système CVC est :\n",
    "\n",
    "$$q = K_P (T_{sp} - \\theta)$$\n",
    "\n",
    "où:\n",
    "- $K_P$ est le gain proportionnel\n",
    "- $T_{sp}$ - température de consigne, °C;\n",
    "- $\\theta$ - température mesurée de l'air intérieur, °C.\n",
    "\n",
    "Le flux de chaleur peut alors être exprimé comme (Figure 5b):\n",
    "$$q = G (T_{sp} - \\theta)$$\n",
    "où $G \\equiv K_p$.\n",
    "\n",
    "Le contrôle de la température de l'air intérieur par le système CVC (Figure 5a) peut être modélisé par une source de température, $T_{sp}$, et une conductance, $G$ (Figure 5b).\n",
    "\n",
    "![fig](./figures/08_P-controller.svg)\n",
    "> Figure 5. Modèle d'un régulateur proportionnel dans un réseau thermique (exemple pour la Chambre 1). \n",
    "> - a) Principe d'un système de régulation de température utilisant un régulateur P. \n",
    "> - b) Modèle de système de contrôle de la température dans un réseau thermique.\n",
    "\n",
    "Si les pièces sont en \"free-running\" (c'est-à-dire que les contrôleurs ne sont pas actifs), les gains proportionnels des contrôleurs sont nuls."
   ]
  },
  {
   "cell_type": "code",
   "execution_count": 12,
   "id": "b89b9c1d-4e48-4254-b01f-2303bcd210c6",
   "metadata": {},
   "outputs": [],
   "source": [
    "# G16 ... G19 (branches rouges) : gains des régulateurs proportionnels\n",
    "G[16:20] = np.zeros(4)"
   ]
  },
  {
   "cell_type": "markdown",
   "id": "dd043bba-5964-4ff4-9b3f-96d129375bed",
   "metadata": {},
   "source": [
    "### Vecteur de sources de température\n",
    "\n",
    "Chaque bord (ou branche) du graphique a une [source de temperature](https://fr.wikipedia.org/wiki/Source_de_tension) qui n'est pas figuré s'il est identiquement nul (Figure 3). Le nombre de sources de température est égal au nombre de flux de chaleur, c'est-à-dire au nombre de lignes de la matrice d'incidence $A$."
   ]
  },
  {
   "cell_type": "code",
   "execution_count": 13,
   "id": "3ea1f598-99c0-493e-b7a1-5806ec349ab0",
   "metadata": {},
   "outputs": [],
   "source": [
    "# Vecteur de sources de température\n",
    "# =============================\n",
    "b = np.zeros(A.shape[0])"
   ]
  },
  {
   "cell_type": "markdown",
   "id": "c87e7130-6baf-4d46-8182-695b7fb6808a",
   "metadata": {},
   "source": [
    "Les sources de température modélisant la température extérieure des murs sont sur les branches 0 ... 3."
   ]
  },
  {
   "cell_type": "code",
   "execution_count": 14,
   "id": "1370d5b8-e309-4cd3-be92-0784546a71ce",
   "metadata": {},
   "outputs": [],
   "source": [
    "b[0:4] = To         # branches cyan : température extérieure pour les murs"
   ]
  },
  {
   "cell_type": "markdown",
   "id": "162a26d1-f3f1-4fc2-8add-f063a146abaf",
   "metadata": {},
   "source": [
    "Les sources de température modélisant la température extérieure pour la ventilation se trouvent sur les branches 20 et 22 pour la Chambre 1, 13 et 15 pour la Chambre 2 et les branches 23 et 25 pour la Chambre 3."
   ]
  },
  {
   "cell_type": "code",
   "execution_count": 15,
   "id": "8bfa0f0d-9e1a-4ace-be1a-7442efe35970",
   "metadata": {},
   "outputs": [],
   "source": [
    "b[[13, 15, 20, 22, 23, 25]] = To    # branches vertes : température extérieure pour la ventilation"
   ]
  },
  {
   "cell_type": "markdown",
   "id": "3b75d7d8-9409-4f3c-92ad-bafefad56abd",
   "metadata": {},
   "source": [
    "Les sources de température modélisant les temperatures de [consigne](https://fr.wikipedia.org/wiki/Valeur_de_consigne) se trouvent sur les branches 16, ... 19. Les consignes pour les chambres sont :\n",
    "- Chambre 1 est 20 °C.\n",
    "- Chambre 2 est 22 °C.\n",
    "- Chambre 3 est 20 °C.\n",
    "- Chambre 4 est 24 °C."
   ]
  },
  {
   "cell_type": "code",
   "execution_count": 16,
   "id": "acf49cd5-56e9-4fcc-a9cd-7aa4359ac406",
   "metadata": {},
   "outputs": [],
   "source": [
    "b[[16, 17, 18, 19]] = 20, 22, 20, 24   # branches rouges : consignes des chambres 1, 2, 3 & 4"
   ]
  },
  {
   "cell_type": "markdown",
   "id": "f8c45fa6-3027-4dd9-bc1b-e7b394abd3a1",
   "metadata": {},
   "source": [
    "### Vecteur des sources de flux de chaleur\n",
    "\n",
    "Dans notre modèle, les sources de flux de chaleur sont le rayonnement solaire absorbé par les murs extérieurs. Premièrement, nous considérerons que le rayonnement solaire est nul.\n",
    "\n",
    "Le nombre de sources de flux de chaleur est égal au nombre de nœuds de température, c'est-à-dire au nombre de colonnes de la matrice d'incidence $A$."
   ]
  },
  {
   "cell_type": "code",
   "execution_count": 17,
   "id": "a2d68394-5c7e-4849-8d8c-4a0df461fcbb",
   "metadata": {},
   "outputs": [],
   "source": [
    "# Vecteur des sources de flux\n",
    "# =============================\n",
    "f = np.zeros(A.shape[1])"
   ]
  },
  {
   "cell_type": "markdown",
   "id": "9f73b706-4bca-4022-81ff-89e85732333b",
   "metadata": {},
   "source": [
    "### Les sorties\n",
    "\n",
    "Dans ce problème, nous recherchons les températures de l'air intérieur des chambres (1, 2, 3 et 4) et les charges thermiques des pièces.\n",
    "\n",
    "Les températures de l'air des pièces sont $\\theta_2$, $\\theta_3$, $\\theta_4$, et $\\theta_6$,\n",
    "\n",
    "La charge thermique est le flux thermique nécessaire pour compenser tous les autres flux thermiques afin de maintenir la température de l'air à sa consigne. Par conséquent, les charges thermiques sont les flux de chaleur des régulateurs, c'est-à-dire $q_{16 ... 19}$."
   ]
  },
  {
   "cell_type": "code",
   "execution_count": 18,
   "id": "f980faca-76ef-45f8-8327-b6dd5e895805",
   "metadata": {},
   "outputs": [],
   "source": [
    "# Index des sorties\n",
    "# ==================\n",
    "air_inter = [2, 3, 4, 6]   # nœuds de température de l'air intérieur\n",
    "regulateur = range(16, 20)  # branches du régulateur"
   ]
  },
  {
   "cell_type": "markdown",
   "id": "728a4dc2-77f4-4c9a-8603-694ac48c1353",
   "metadata": {},
   "source": [
    "## Question 1 : les 4 chambres sont contrôlées\n",
    "\n",
    "Considérant que les quatre pièces sont contrôlées par un système CVC aux températures de consigne 20 °C, 22 °C, 20 °C, 24 °C pour les chambres 1, 2, 3 et 4, respectivement et qu'il n'y a pas de rayonnement solaire sur les murs extérieurs, trouver les charges thermiques des quatre Chambres.\n",
    "\n",
    "Pour un contrôleur proportionnel (regulateur) presque parfait, on considérera un très grand gain du contrôleur par rapport à la valeur maximale de la matrice de conductance."
   ]
  },
  {
   "cell_type": "code",
   "execution_count": 19,
   "id": "64dc4e6c-2a7e-4b86-b409-860fff2c5e09",
   "metadata": {},
   "outputs": [
    {
     "name": "stdout",
     "output_type": "stream",
     "text": [
      "Valeur maximale de conductance: 1830 W/K\n"
     ]
    }
   ],
   "source": [
    "print(f\"Valeur maximale de conductance: {max(G):.0f} W/K\")"
   ]
  },
  {
   "cell_type": "code",
   "execution_count": 20,
   "id": "6a81b056-c0e3-4852-9804-2194b7702032",
   "metadata": {},
   "outputs": [
    {
     "name": "stdout",
     "output_type": "stream",
     "text": [
      "1. Les 4 chambres contrôlées\n",
      "θ: [20. 20. 22. 18.] °C\n",
      "q: [1227.2 1165.2  476.9  675.2] W\n"
     ]
    }
   ],
   "source": [
    "b[regulateur] = 20, 20, 22, 18  # °C température de consigne des pièces\n",
    "G[regulateur] = 1e9             # P-gain du contrôleur\n",
    "\n",
    "θ = np.linalg.inv(A.T @ np.diag(G) @ A) @ (A.T @ np.diag(G) @ b + f)\n",
    "q = np.diag(G) @ (-A @ θ + b)\n",
    "print(\"1. Les 4 chambres contrôlées\")\n",
    "print(\"θ:\", θ[air_inter], \"°C\")\n",
    "print(\"q:\", q[regulateur], \"W\")"
   ]
  },
  {
   "cell_type": "markdown",
   "id": "dcaf80c0-6f36-4b18-bce2-126a36c4890d",
   "metadata": {
    "tags": []
   },
   "source": [
    "## Question 2 : salles 2 & 4 en free-running\n",
    "\n",
    "Considérons que :\n",
    "- il y a un rayonnement solaire absorbé par les murs extérieurs, c'est-à-dire $f_k = E \\, S_{o,j}, \\text{ avec } k = 0, 1, 5, 7 \\text{ et } j = 0...3;$\n",
    "- comme auparavant, les pièces 1 et 3 sont contrôlées par un système CVC, c'est-à-dire $K_{P,j} \\rightarrow \\infty, \\text{ avec } j=16, 18;$\n",
    "- Les chambres 2 et 4 sont en \"free-running\", c'est-à-dire $K_{P,j} = 0, \\text{ avec } j=17, 19.$ \n",
    "\n",
    "Trouver les charges thermiques des pièces 1 et 3 et les températures de l'air intérieur des pièces 2 et 4."
   ]
  },
  {
   "cell_type": "code",
   "execution_count": 21,
   "id": "8d06dbf3-5a56-4961-9625-aa153a8ab702",
   "metadata": {},
   "outputs": [
    {
     "name": "stdout",
     "output_type": "stream",
     "text": [
      "2. 2 & 4 free-run w/o ventilation\n",
      "θ: [20.  12.7 22.  16.8] °C\n",
      "q: [1040.6    0.   290.3    0. ] W\n"
     ]
    }
   ],
   "source": [
    "# Zone 2 & 4 en free-running ; radiation solaire; sans ventilation\n",
    "G[[17, 19]] = 0     # gains du contrôleur pour les chambres 2 et 4\n",
    "\n",
    "# radiation solaire\n",
    "f[0] = E * Sp4\n",
    "f[1] = E * Sp5\n",
    "f[5] = E * Sp5\n",
    "f[7] = E * Sp7\n",
    "\n",
    "θ = np.linalg.inv(A.T @ np.diag(G) @ A) @ (A.T @ np.diag(G) @ b + f)\n",
    "q = np.diag(G) @ (-A @ θ + b)\n",
    "print(\"2. 2 & 4 free-run w/o ventilation\")\n",
    "print(\"θ:\", θ[air_inter], \"°C\")\n",
    "print(\"q:\", q[regulateur], \"W\")"
   ]
  },
  {
   "cell_type": "markdown",
   "id": "fd6d9d71-dd1e-46f5-ab5f-0898240f8224",
   "metadata": {},
   "source": [
    "## Question 3 : ventilation de l'extérieur vers la chambre 1\n",
    "\n",
    "Chambre 1 en ventilation avec un débit d'air $ACH$ (ACH est le nombre de renouvellements d'air par heure). L'air extérieur entre dans la chambre 1, puis il se déplace vers la chambre 4 et, à partir d'ici, il pénètre à l'extérieur.\n",
    "\n",
    "Trouver les charges thermiques des pièces 1 et 3 et les températures de l'air intérieur des chambres 2 et 4.\n",
    "\n",
    "Pour modéliser cette direction d'écoulement d'air, les conductances pour la ventilation sont :\n",
    "$$G_{20} = G_{21} = \\dot m c  ; G_{22} = 0 $$"
   ]
  },
  {
   "cell_type": "code",
   "execution_count": 24,
   "id": "9f6f7c65-9bd3-419d-b20f-4f06a54db3ed",
   "metadata": {},
   "outputs": [
    {
     "name": "stdout",
     "output_type": "stream",
     "text": [
      "3. 2 & 4 free-run, Ventilation extérieure -> 1 -> 4 -> extérieure\n",
      "θ: [20.  12.7 22.  16.8] °C\n",
      "q: [1040.6    0.   290.3    0. ] W\n"
     ]
    }
   ],
   "source": [
    "# Zone 2 & 4 en free-running ; radiation solaire;\n",
    "# Ventilation extérieure -> chambre 1 -> chambre 4 -> extérieure\n",
    "ventilation = range(20, 23)\n",
    "G[ventilation] = m_dot * c, m_dot * c, 0\n",
    "\n",
    "θ = np.linalg.inv(A.T @ np.diag(G) @ A) @ (A.T @ np.diag(G) @ b + f)\n",
    "q = np.diag(G) @ (-A @ θ + b)\n",
    "print(\"3. 2 & 4 free-run, Ventilation extérieure -> 1 -> 4 -> extérieure\")\n",
    "print(\"θ:\", θ[air_inter], \"°C\")\n",
    "print(\"q:\", q[regulateur], \"W\")"
   ]
  }
 ],
 "metadata": {
  "kernelspec": {
   "display_name": "Python 3 (ipykernel)",
   "language": "python",
   "name": "python3"
  },
  "language_info": {
   "codemirror_mode": {
    "name": "ipython",
    "version": 3
   },
   "file_extension": ".py",
   "mimetype": "text/x-python",
   "name": "python",
   "nbconvert_exporter": "python",
   "pygments_lexer": "ipython3",
   "version": "3.9.13"
  },
  "toc-autonumbering": true
 },
 "nbformat": 4,
 "nbformat_minor": 5
}
